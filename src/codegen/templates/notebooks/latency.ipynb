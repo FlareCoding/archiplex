{
 "cells": [
  {
   "cell_type": "code",
   "execution_count": null,
   "metadata": {},
   "outputs": [],
   "source": [
    "import seaborn as sns\n",
    "import matplotlib.pyplot as plt\n",
    "import numpy as np\n",
    "import pandas as pd\n",
    "from utils import *"
   ]
  },
  {
   "cell_type": "code",
   "execution_count": null,
   "metadata": {},
   "outputs": [],
   "source": [
    "file_path = \"../data/raw/run_0/baseline/latencies.csv\"\n",
    "config = {\n",
    "    \"remove_outliers\": True,\n",
    "    \"outlier_column\": \"latency\",\n",
    "    \"latency_unit\": \"us\"\n",
    "}\n",
    "\n",
    "df = process_data(file_path, config)"
   ]
  },
  {
   "cell_type": "code",
   "execution_count": null,
   "metadata": {},
   "outputs": [],
   "source": [
    "# Set the theme\n",
    "sns.set_theme(style=\"darkgrid\")\n",
    "\n",
    "# Compute the mean and confidence interval for each work_size within each configuration\n",
    "mean_df = df.groupby(['configuration', 'work_size']).agg({'latency':'mean'}).reset_index()\n",
    "std_df = df.groupby(['configuration', 'work_size']).agg({'latency':'std'}).reset_index()\n",
    "\n",
    "# Merge the mean and std dataframes\n",
    "plot_df = pd.merge(mean_df, std_df, on=['configuration', 'work_size'], suffixes=('_mean', '_std'))\n",
    "\n",
    "# Create the lineplot\n",
    "plt.figure(figsize=(10, 6))\n",
    "lineplot = sns.lineplot(data=plot_df, x='work_size', y='latency_mean', hue='configuration', style='configuration', dashes=False, err_style=\"bars\", ci='sd')\n",
    "\n",
    "# Add shaded area around each line for variance\n",
    "for configuration in plot_df['configuration'].unique():\n",
    "    subset = plot_df[plot_df['configuration'] == configuration]\n",
    "    plt.fill_between(subset['work_size'], subset['latency_mean'] - subset['latency_std'], subset['latency_mean'] + subset['latency_std'], alpha=0.2)\n",
    "\n",
    "plt.title('Latency vs Work Size by Configuration')\n",
    "plt.xlabel('Work Size')\n",
    "lt.ylabel(f'Latency ({config[\"latency_unit\"]})')\n",
    "plt.legend(title='Configuration')\n",
    "plt.tight_layout()\n",
    "plt.xlim(0,)\n",
    "plt.ylim(0,)\n",
    "\n",
    "plt.show()"
   ]
  }
 ],
 "metadata": {
  "kernelspec": {
   "display_name": "Python 3",
   "language": "python",
   "name": "python3"
  },
  "language_info": {
   "codemirror_mode": {
    "name": "ipython",
    "version": 3
   },
   "file_extension": ".py",
   "mimetype": "text/x-python",
   "name": "python",
   "nbconvert_exporter": "python",
   "pygments_lexer": "ipython3",
   "version": "3.11.2"
  }
 },
 "nbformat": 4,
 "nbformat_minor": 2
}
